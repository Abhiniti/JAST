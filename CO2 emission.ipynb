{
 "cells": [
  {
   "cell_type": "code",
   "execution_count": 55,
   "metadata": {},
   "outputs": [],
   "source": [
    "import pandas as pd\n",
    "import numpy as np\n",
    "import matplotlib.pyplot as plt"
   ]
  },
  {
   "cell_type": "code",
   "execution_count": 92,
   "metadata": {},
   "outputs": [],
   "source": [
    "data_file = \"CO2Highlights.XLSX\"\n",
    "\n",
    "#Total\n",
    "CO2_Fuel = pd.read_excel(data_file,header=3,sheet_name=\"CO2 FC\")\n",
    "\n",
    "#Coal\n",
    "CO2_Fuel_Coal = pd.read_excel(data_file,header=3,sheet_name=\"CO2 FC - Coal\")\n",
    "\n",
    "#Oil\n",
    "CO2_Fuel_Oil = pd.read_excel(data_file,header=3,sheet_name=\"CO2 FC - Oil\")\n",
    "\n",
    "#Gas\n",
    "CO2_Fuel_Gas = pd.read_excel(data_file,header=3,sheet_name=\"CO2 FC - Gas\")"
   ]
  },
  {
   "cell_type": "code",
   "execution_count": 93,
   "metadata": {},
   "outputs": [
    {
     "data": {
      "text/html": [
       "<div>\n",
       "<style scoped>\n",
       "    .dataframe tbody tr th:only-of-type {\n",
       "        vertical-align: middle;\n",
       "    }\n",
       "\n",
       "    .dataframe tbody tr th {\n",
       "        vertical-align: top;\n",
       "    }\n",
       "\n",
       "    .dataframe thead th {\n",
       "        text-align: right;\n",
       "    }\n",
       "</style>\n",
       "<table border=\"1\" class=\"dataframe\">\n",
       "  <thead>\n",
       "    <tr style=\"text-align: right;\">\n",
       "      <th></th>\n",
       "      <th>Year</th>\n",
       "      <th>Total Global CO2 emissions(million tonnes)</th>\n",
       "      <th>Global CO2 emissions from Coal(million tonnes)</th>\n",
       "      <th>Global CO2 emissions from Oil(million tonnes)</th>\n",
       "      <th>Global CO2 emissions from Gas(million tonnes)</th>\n",
       "    </tr>\n",
       "  </thead>\n",
       "  <tbody>\n",
       "    <tr>\n",
       "      <th>0</th>\n",
       "      <td>1971</td>\n",
       "      <td>13942.2</td>\n",
       "      <td>5229.31</td>\n",
       "      <td>6668.13</td>\n",
       "      <td>2043.62</td>\n",
       "    </tr>\n",
       "    <tr>\n",
       "      <th>1</th>\n",
       "      <td>1972</td>\n",
       "      <td>14616.9</td>\n",
       "      <td>5306.08</td>\n",
       "      <td>7156.82</td>\n",
       "      <td>2152.29</td>\n",
       "    </tr>\n",
       "    <tr>\n",
       "      <th>2</th>\n",
       "      <td>1973</td>\n",
       "      <td>15457.5</td>\n",
       "      <td>5506.31</td>\n",
       "      <td>7716.56</td>\n",
       "      <td>2233.01</td>\n",
       "    </tr>\n",
       "    <tr>\n",
       "      <th>3</th>\n",
       "      <td>1974</td>\n",
       "      <td>15423.8</td>\n",
       "      <td>5535.91</td>\n",
       "      <td>7598.07</td>\n",
       "      <td>2285.14</td>\n",
       "    </tr>\n",
       "    <tr>\n",
       "      <th>4</th>\n",
       "      <td>1975</td>\n",
       "      <td>15484.1</td>\n",
       "      <td>5647.96</td>\n",
       "      <td>7581.46</td>\n",
       "      <td>2249.44</td>\n",
       "    </tr>\n",
       "  </tbody>\n",
       "</table>\n",
       "</div>"
      ],
      "text/plain": [
       "   Year Total Global CO2 emissions(million tonnes)  \\\n",
       "0  1971                                    13942.2   \n",
       "1  1972                                    14616.9   \n",
       "2  1973                                    15457.5   \n",
       "3  1974                                    15423.8   \n",
       "4  1975                                    15484.1   \n",
       "\n",
       "  Global CO2 emissions from Coal(million tonnes)  \\\n",
       "0                                        5229.31   \n",
       "1                                        5306.08   \n",
       "2                                        5506.31   \n",
       "3                                        5535.91   \n",
       "4                                        5647.96   \n",
       "\n",
       "  Global CO2 emissions from Oil(million tonnes)  \\\n",
       "0                                       6668.13   \n",
       "1                                       7156.82   \n",
       "2                                       7716.56   \n",
       "3                                       7598.07   \n",
       "4                                       7581.46   \n",
       "\n",
       "  Global CO2 emissions from Gas(million tonnes)  \n",
       "0                                       2043.62  \n",
       "1                                       2152.29  \n",
       "2                                       2233.01  \n",
       "3                                       2285.14  \n",
       "4                                       2249.44  "
      ]
     },
     "execution_count": 93,
     "metadata": {},
     "output_type": "execute_result"
    }
   ],
   "source": [
    "#Total Fossil Fuel CO2 emissions\n",
    "CO2_Fuel_df = pd.DataFrame(CO2_Fuel.loc[1,:])\n",
    "CO2_Fuel_df = CO2_Fuel_df.reset_index()\n",
    "CO2_Fuel_df.columns = [\"Year\",\"Total Global CO2 emissions(million tonnes)\"]\n",
    "CO2_Fuel_df = CO2_Fuel_df.drop([0])\n",
    "\n",
    "#CO2 emissions from Coal\n",
    "CO2_Fuel_Coal_df = pd.DataFrame(CO2_Fuel_Coal.loc[1,:])\n",
    "CO2_Fuel_Coal_df = CO2_Fuel_Coal_df.reset_index()\n",
    "CO2_Fuel_Coal_df.columns = [\"Year\",\"Global CO2 emissions from Coal(million tonnes)\"]\n",
    "CO2_Fuel_Coal_df = CO2_Fuel_Coal_df.drop([0])\n",
    "\n",
    "#CO2 emissions from Oil\n",
    "CO2_Fuel_Oil_df = pd.DataFrame(CO2_Fuel_Oil.loc[1,:])\n",
    "CO2_Fuel_Oil_df = CO2_Fuel_Oil_df.reset_index()\n",
    "CO2_Fuel_Oil_df.columns = [\"Year\",\"Global CO2 emissions from Oil(million tonnes)\"]\n",
    "CO2_Fuel_Oil_df = CO2_Fuel_Oil_df.drop([0])\n",
    "\n",
    "#CO2 emissions from Gas\n",
    "CO2_Fuel_Gas_df = pd.DataFrame(CO2_Fuel_Gas.loc[1,:])\n",
    "CO2_Fuel_Gas_df = CO2_Fuel_Gas_df.reset_index()\n",
    "CO2_Fuel_Gas_df.columns = [\"Year\",\"Global CO2 emissions from Gas(million tonnes)\"]\n",
    "CO2_Fuel_Gas_df = CO2_Fuel_Gas_df.drop([0])\n",
    "CO2_Fuel_Gas_df\n",
    "\n",
    "#Merge\n",
    "CO2_Fuel_Final_df = CO2_Fuel_df.merge(CO2_Fuel_Coal_df,on=\"Year\")\n",
    "CO2_Fuel_Final_df = CO2_Fuel_Final_df.merge(CO2_Fuel_Oil_df,on=\"Year\")\n",
    "CO2_Fuel_Final_df = CO2_Fuel_Final_df.merge(CO2_Fuel_Gas_df,on=\"Year\")\n",
    "CO2_Fuel_Final_df.head()"
   ]
  },
  {
   "cell_type": "code",
   "execution_count": 106,
   "metadata": {},
   "outputs": [
    {
     "data": {
      "image/png": "[encoded data removed]",
      "text/plain": [
       "<Figure size 432x288 with 1 Axes>"
      ]
     },
     "metadata": {},
     "output_type": "display_data"
    }
   ],
   "source": [
    "#Total\n",
    "x_axis = CO2_Fuel_Final_df[\"Year\"].tolist()\n",
    "y_axis_Total = CO2_Fuel_Final_df[\"Total Global CO2 emissions(million tonnes)\"].tolist()\n",
    "plt.plot(x_axis,y_axis_Total,color='k',label=\"Total\")\n",
    "#Coal\n",
    "y_axis_Coal = CO2_Fuel_Final_df[\"Global CO2 emissions from Coal(million tonnes)\"].tolist()\n",
    "plt.plot(x_axis,y_axis_Coal,color='k',label=\"Coal\",linestyle=\"--\")\n",
    "#Oil\n",
    "y_axis_Oil = CO2_Fuel_Final_df[\"Global CO2 emissions from Oil(million tonnes)\"].tolist()\n",
    "plt.plot(x_axis,y_axis_Oil,color='k',label=\"Oil\")\n",
    "#Gas\n",
    "y_axis_Gas = CO2_Fuel_Final_df[\"Global CO2 emissions from Gas(million tonnes)\"].tolist()\n",
    "plt.plot(x_axis,y_axis_Gas,color='k',label=\"Gas\",marker=\"^\")\n",
    "plt.show()"
   ]
  },
  {
   "cell_type": "code",
   "execution_count": null,
   "metadata": {},
   "outputs": [],
   "source": [
    "#Percent difference of coal emission per year"
   ]
  }
 ],
 "metadata": {
  "kernelspec": {
   "display_name": "Python [conda env:PythonData]",
   "language": "python",
   "name": "conda-env-PythonData-py"
  },
  "language_info": {
   "codemirror_mode": {
    "name": "ipython",
    "version": 3
   },
   "file_extension": ".py",
   "mimetype": "text/x-python",
   "name": "python",
   "nbconvert_exporter": "python",
   "pygments_lexer": "ipython3",
   "version": "3.6.5"
  }
 },
 "nbformat": 4,
 "nbformat_minor": 2
}
