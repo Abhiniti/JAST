{
 "cells": [
  {
   "cell_type": "code",
   "execution_count": 2,
   "metadata": {},
   "outputs": [
    {
     "ename": "ModuleNotFoundError",
     "evalue": "No module named 'sklearn'",
     "output_type": "error",
     "traceback": [
      "\u001b[1;31m---------------------------------------------------------------------------\u001b[0m",
      "\u001b[1;31mModuleNotFoundError\u001b[0m                       Traceback (most recent call last)",
      "\u001b[1;32m<ipython-input-2-27cbb33062c5>\u001b[0m in \u001b[0;36m<module>\u001b[1;34m()\u001b[0m\n\u001b[0;32m      4\u001b[0m \u001b[0mget_ipython\u001b[0m\u001b[1;33m(\u001b[0m\u001b[1;33m)\u001b[0m\u001b[1;33m.\u001b[0m\u001b[0mrun_line_magic\u001b[0m\u001b[1;33m(\u001b[0m\u001b[1;34m'matplotlib'\u001b[0m\u001b[1;33m,\u001b[0m \u001b[1;34m'notebook'\u001b[0m\u001b[1;33m)\u001b[0m\u001b[1;33m\u001b[0m\u001b[0m\n\u001b[0;32m      5\u001b[0m \u001b[1;33m\u001b[0m\u001b[0m\n\u001b[1;32m----> 6\u001b[1;33m \u001b[1;32mfrom\u001b[0m \u001b[0msklearn\u001b[0m\u001b[1;33m.\u001b[0m\u001b[0mlinear_model\u001b[0m \u001b[1;32mimport\u001b[0m \u001b[0mLinearRegression\u001b[0m\u001b[1;33m\u001b[0m\u001b[0m\n\u001b[0m",
      "\u001b[1;31mModuleNotFoundError\u001b[0m: No module named 'sklearn'"
     ]
    }
   ],
   "source": [
    "import pandas as pd\n",
    "import numpy as np\n",
    "import matplotlib.pyplot as plt\n",
    "%matplotlib notebook\n",
    "\n",
    "#from sklearn.linear_model import LinearRegression"
   ]
  },
  {
   "cell_type": "code",
   "execution_count": 5,
   "metadata": {},
   "outputs": [
    {
     "data": {
      "text/html": [
       "<div>\n",
       "<style scoped>\n",
       "    .dataframe tbody tr th:only-of-type {\n",
       "        vertical-align: middle;\n",
       "    }\n",
       "\n",
       "    .dataframe tbody tr th {\n",
       "        vertical-align: top;\n",
       "    }\n",
       "\n",
       "    .dataframe thead th {\n",
       "        text-align: right;\n",
       "    }\n",
       "</style>\n",
       "<table border=\"1\" class=\"dataframe\">\n",
       "  <thead>\n",
       "    <tr style=\"text-align: right;\">\n",
       "      <th></th>\n",
       "      <th>Entity</th>\n",
       "      <th>Code</th>\n",
       "      <th>Year</th>\n",
       "      <th>Coal (terawatt-hours)</th>\n",
       "      <th>Crude oil (terawatt-hours)</th>\n",
       "      <th>Natural gas (terawatt-hours)</th>\n",
       "      <th>Population</th>\n",
       "      <th>GDP</th>\n",
       "      <th>Total CO2 Emissions Excluding Land-Use Change and Forestry (MtCO2)</th>\n",
       "    </tr>\n",
       "  </thead>\n",
       "  <tbody>\n",
       "    <tr>\n",
       "      <th>0</th>\n",
       "      <td>World</td>\n",
       "      <td>OWID_WRL</td>\n",
       "      <td>1850</td>\n",
       "      <td>569.44490</td>\n",
       "      <td>0.00000</td>\n",
       "      <td>0.00000</td>\n",
       "      <td>1.270591e+09</td>\n",
       "      <td>NaN</td>\n",
       "      <td>197.856</td>\n",
       "    </tr>\n",
       "    <tr>\n",
       "      <th>1</th>\n",
       "      <td>World</td>\n",
       "      <td>OWID_WRL</td>\n",
       "      <td>1860</td>\n",
       "      <td>1061.11196</td>\n",
       "      <td>0.00000</td>\n",
       "      <td>0.00000</td>\n",
       "      <td>1.327610e+09</td>\n",
       "      <td>NaN</td>\n",
       "      <td>333.424</td>\n",
       "    </tr>\n",
       "    <tr>\n",
       "      <th>2</th>\n",
       "      <td>World</td>\n",
       "      <td>OWID_WRL</td>\n",
       "      <td>1870</td>\n",
       "      <td>1641.66798</td>\n",
       "      <td>5.55556</td>\n",
       "      <td>0.00000</td>\n",
       "      <td>1.326907e+09</td>\n",
       "      <td>1.923917e+12</td>\n",
       "      <td>538.608</td>\n",
       "    </tr>\n",
       "    <tr>\n",
       "      <th>3</th>\n",
       "      <td>World</td>\n",
       "      <td>OWID_WRL</td>\n",
       "      <td>1880</td>\n",
       "      <td>2541.66870</td>\n",
       "      <td>33.33336</td>\n",
       "      <td>0.00000</td>\n",
       "      <td>1.405146e+09</td>\n",
       "      <td>NaN</td>\n",
       "      <td>864.704</td>\n",
       "    </tr>\n",
       "    <tr>\n",
       "      <th>4</th>\n",
       "      <td>World</td>\n",
       "      <td>OWID_WRL</td>\n",
       "      <td>1890</td>\n",
       "      <td>3855.55864</td>\n",
       "      <td>88.88896</td>\n",
       "      <td>33.33336</td>\n",
       "      <td>1.522735e+09</td>\n",
       "      <td>NaN</td>\n",
       "      <td>1304.384</td>\n",
       "    </tr>\n",
       "  </tbody>\n",
       "</table>\n",
       "</div>"
      ],
      "text/plain": [
       "  Entity      Code  Year  Coal (terawatt-hours)  Crude oil (terawatt-hours)  \\\n",
       "0  World  OWID_WRL  1850              569.44490                     0.00000   \n",
       "1  World  OWID_WRL  1860             1061.11196                     0.00000   \n",
       "2  World  OWID_WRL  1870             1641.66798                     5.55556   \n",
       "3  World  OWID_WRL  1880             2541.66870                    33.33336   \n",
       "4  World  OWID_WRL  1890             3855.55864                    88.88896   \n",
       "\n",
       "   Natural gas (terawatt-hours)    Population           GDP  \\\n",
       "0                       0.00000  1.270591e+09           NaN   \n",
       "1                       0.00000  1.327610e+09           NaN   \n",
       "2                       0.00000  1.326907e+09  1.923917e+12   \n",
       "3                       0.00000  1.405146e+09           NaN   \n",
       "4                      33.33336  1.522735e+09           NaN   \n",
       "\n",
       "   Total CO2 Emissions Excluding Land-Use Change and Forestry (MtCO2)  \n",
       "0                                            197.856                   \n",
       "1                                            333.424                   \n",
       "2                                            538.608                   \n",
       "3                                            864.704                   \n",
       "4                                           1304.384                   "
      ]
     },
     "execution_count": 5,
     "metadata": {},
     "output_type": "execute_result"
    }
   ],
   "source": [
    "data_file = \"global-fossil-fuel-consumption - Copy.xlsx\"\n",
    "\n",
    "#Total\n",
    "CO2_file = pd.read_excel(data_file,header=0,sheet_name=\"global-fossil-fuel-consumption\")\n",
    "CO2_Fuel = CO2_file[\"Total CO2 Emissions Excluding Land-Use Change and Forestry (MtCO2)\"]\n",
    "CO2_file.columns\n",
    "CO2_file.head()"
   ]
  },
  {
   "cell_type": "code",
   "execution_count": 6,
   "metadata": {},
   "outputs": [],
   "source": [
    "#CO2 consumption from Coal\n",
    "CO2_Cons_Coal = CO2_file[\"Coal (terawatt-hours)\"]\n",
    "\n",
    "#CO2 consumption from Oil\n",
    "CO2_Cons_Oil = CO2_file[\"Crude oil (terawatt-hours)\"]\n",
    "\n",
    "#CO2 consumption from Gas\n",
    "CO2_Cons_Gas = CO2_file[\"Natural gas (terawatt-hours)\"]\n",
    "\n",
    "#Total CO2 emissions from Fossil Fuels\n",
    "CO2_Emis_Total = CO2_file[\"Total CO2 Emissions Excluding Land-Use Change and Forestry (MtCO2)\"]"
   ]
  },
  {
   "cell_type": "code",
   "execution_count": 14,
   "metadata": {},
   "outputs": [
    {
     "data": {
      "image/png": "[encoded data removed]",
      "text/plain": [
       "<Figure size 432x288 with 1 Axes>"
      ]
     },
     "metadata": {},
     "output_type": "display_data"
    }
   ],
   "source": [
    "#Coal consumption vs CO2 emission\n",
    "y_axis = CO2_Emis_Total\n",
    "x_axis_Coal = CO2_Cons_Coal\n",
    "plt.scatter(x_axis_Coal,y_axis,color='b',label=\"Coal\")\n",
    "\n",
    "#Oil consumption vs CO2 emission\n",
    "x_axis_Oil = CO2_Cons_Oil\n",
    "plt.scatter(x_axis_Oil,y_axis,color='r',label=\"Oil\")\n",
    "\n",
    "#Gas consumption vs CO2 emission\n",
    "x_axis_Gas = CO2_Cons_Gas\n",
    "plt.scatter(x_axis_Gas,y_axis,color='g',label=\"Gas\")\n",
    "\n",
    "plt.title(\"Total Emission of CO2 from Fossil Fuels \\nvs. Fossil Fuel Consumption\")\n",
    "plt.xlabel(\"CO2 consumption \\n (terawatt-hours)\")\n",
    "plt.ylabel(\"CO2 emissions (MtCO2)\")\n",
    "plt.legend()\n",
    "plt.tight_layout()\n",
    "plt.grid()\n",
    "plt.show()"
   ]
  },
  {
   "cell_type": "code",
   "execution_count": null,
   "metadata": {},
   "outputs": [],
   "source": []
  }
 ],
 "metadata": {
  "kernelspec": {
   "display_name": "Python [conda env:PythonData]",
   "language": "python",
   "name": "conda-env-PythonData-py"
  },
  "language_info": {
   "codemirror_mode": {
    "name": "ipython",
    "version": 3
   },
   "file_extension": ".py",
   "mimetype": "text/x-python",
   "name": "python",
   "nbconvert_exporter": "python",
   "pygments_lexer": "ipython3",
   "version": "3.6.5"
  }
 },
 "nbformat": 4,
 "nbformat_minor": 2
}
